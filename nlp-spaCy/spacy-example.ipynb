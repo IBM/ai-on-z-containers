{
 "cells": [
  {
   "cell_type": "markdown",
   "id": "7112bb68-d238-4079-b289-7fd3ba7bfff5",
   "metadata": {},
   "source": [
    "# spaCy on s390x \n",
    "\n",
    "This is a simple example demonstrating the use of spaCy to tokenize and \n",
    "some basic analysis on input text. \n",
    "\n",
    "Numerous additional examples can be found on https://spacy.io/"
   ]
  },
  {
   "cell_type": "markdown",
   "id": "3e2e1378-c654-4f23-aa92-ade83960f09d",
   "metadata": {},
   "source": [
    "### First, we'll download a trained english language pipeline."
   ]
  },
  {
   "cell_type": "code",
   "execution_count": 1,
   "id": "46c90358-af06-4588-bd1e-d5f59823f56a",
   "metadata": {},
   "outputs": [
    {
     "name": "stdout",
     "output_type": "stream",
     "text": [
      "Collecting en-core-web-sm==3.1.0\n",
      "  Downloading https://github.com/explosion/spacy-models/releases/download/en_core_web_sm-3.1.0/en_core_web_sm-3.1.0-py3-none-any.whl (13.6 MB)\n",
      "     |████████████████████████████████| 13.6 MB 2.8 MB/s            \n",
      "\u001b[?25hRequirement already satisfied: spacy<3.2.0,>=3.1.0 in /Users/andrewsius.ibm.com/Documents/git_hub/spaCy (from en-core-web-sm==3.1.0) (3.1.4)\n",
      "Requirement already satisfied: spacy-legacy<3.1.0,>=3.0.8 in /Users/andrewsius.ibm.com/opt/anaconda3/envs/spacy/lib/python3.8/site-packages (from spacy<3.2.0,>=3.1.0->en-core-web-sm==3.1.0) (3.0.8)\n",
      "Requirement already satisfied: murmurhash<1.1.0,>=0.28.0 in /Users/andrewsius.ibm.com/opt/anaconda3/envs/spacy/lib/python3.8/site-packages (from spacy<3.2.0,>=3.1.0->en-core-web-sm==3.1.0) (1.0.5)\n",
      "Requirement already satisfied: cymem<2.1.0,>=2.0.2 in /Users/andrewsius.ibm.com/opt/anaconda3/envs/spacy/lib/python3.8/site-packages (from spacy<3.2.0,>=3.1.0->en-core-web-sm==3.1.0) (2.0.5)\n",
      "Requirement already satisfied: preshed<3.1.0,>=3.0.2 in /Users/andrewsius.ibm.com/opt/anaconda3/envs/spacy/lib/python3.8/site-packages (from spacy<3.2.0,>=3.1.0->en-core-web-sm==3.1.0) (3.0.5)\n",
      "Collecting thinc<8.1.0,>=8.0.12\n",
      "  Using cached thinc-8.0.13-cp38-cp38-macosx_10_9_x86_64.whl (609 kB)\n",
      "Requirement already satisfied: blis<0.8.0,>=0.4.0 in /Users/andrewsius.ibm.com/opt/anaconda3/envs/spacy/lib/python3.8/site-packages (from spacy<3.2.0,>=3.1.0->en-core-web-sm==3.1.0) (0.7.4)\n",
      "Requirement already satisfied: wasabi<1.1.0,>=0.8.1 in /Users/andrewsius.ibm.com/opt/anaconda3/envs/spacy/lib/python3.8/site-packages (from spacy<3.2.0,>=3.1.0->en-core-web-sm==3.1.0) (0.8.2)\n",
      "Requirement already satisfied: srsly<3.0.0,>=2.4.1 in /Users/andrewsius.ibm.com/opt/anaconda3/envs/spacy/lib/python3.8/site-packages (from spacy<3.2.0,>=3.1.0->en-core-web-sm==3.1.0) (2.4.1)\n",
      "Requirement already satisfied: catalogue<2.1.0,>=2.0.6 in /Users/andrewsius.ibm.com/opt/anaconda3/envs/spacy/lib/python3.8/site-packages (from spacy<3.2.0,>=3.1.0->en-core-web-sm==3.1.0) (2.0.6)\n",
      "Requirement already satisfied: typer<0.5.0,>=0.3.0 in /Users/andrewsius.ibm.com/opt/anaconda3/envs/spacy/lib/python3.8/site-packages (from spacy<3.2.0,>=3.1.0->en-core-web-sm==3.1.0) (0.3.2)\n",
      "Requirement already satisfied: pathy>=0.3.5 in /Users/andrewsius.ibm.com/opt/anaconda3/envs/spacy/lib/python3.8/site-packages (from spacy<3.2.0,>=3.1.0->en-core-web-sm==3.1.0) (0.6.0)\n",
      "Requirement already satisfied: tqdm<5.0.0,>=4.38.0 in /Users/andrewsius.ibm.com/opt/anaconda3/envs/spacy/lib/python3.8/site-packages (from spacy<3.2.0,>=3.1.0->en-core-web-sm==3.1.0) (4.62.3)\n",
      "Requirement already satisfied: numpy>=1.15.0 in /Users/andrewsius.ibm.com/opt/anaconda3/envs/spacy/lib/python3.8/site-packages (from spacy<3.2.0,>=3.1.0->en-core-web-sm==3.1.0) (1.21.2)\n",
      "Requirement already satisfied: requests<3.0.0,>=2.13.0 in /Users/andrewsius.ibm.com/opt/anaconda3/envs/spacy/lib/python3.8/site-packages (from spacy<3.2.0,>=3.1.0->en-core-web-sm==3.1.0) (2.26.0)\n",
      "Requirement already satisfied: pydantic!=1.8,!=1.8.1,<1.9.0,>=1.7.4 in /Users/andrewsius.ibm.com/opt/anaconda3/envs/spacy/lib/python3.8/site-packages (from spacy<3.2.0,>=3.1.0->en-core-web-sm==3.1.0) (1.8.2)\n",
      "Requirement already satisfied: jinja2 in /Users/andrewsius.ibm.com/opt/anaconda3/envs/spacy/lib/python3.8/site-packages (from spacy<3.2.0,>=3.1.0->en-core-web-sm==3.1.0) (3.0.2)\n",
      "Requirement already satisfied: setuptools in /Users/andrewsius.ibm.com/opt/anaconda3/envs/spacy/lib/python3.8/site-packages (from spacy<3.2.0,>=3.1.0->en-core-web-sm==3.1.0) (58.2.0)\n",
      "Requirement already satisfied: packaging>=20.0 in /Users/andrewsius.ibm.com/opt/anaconda3/envs/spacy/lib/python3.8/site-packages (from spacy<3.2.0,>=3.1.0->en-core-web-sm==3.1.0) (21.0)\n",
      "Requirement already satisfied: pyparsing>=2.0.2 in /Users/andrewsius.ibm.com/opt/anaconda3/envs/spacy/lib/python3.8/site-packages (from packaging>=20.0->spacy<3.2.0,>=3.1.0->en-core-web-sm==3.1.0) (2.4.7)\n",
      "Requirement already satisfied: smart-open<6.0.0,>=5.0.0 in /Users/andrewsius.ibm.com/opt/anaconda3/envs/spacy/lib/python3.8/site-packages (from pathy>=0.3.5->spacy<3.2.0,>=3.1.0->en-core-web-sm==3.1.0) (5.2.1)\n",
      "Requirement already satisfied: typing-extensions>=3.7.4.3 in /Users/andrewsius.ibm.com/opt/anaconda3/envs/spacy/lib/python3.8/site-packages (from pydantic!=1.8,!=1.8.1,<1.9.0,>=1.7.4->spacy<3.2.0,>=3.1.0->en-core-web-sm==3.1.0) (3.10.0.2)\n",
      "Requirement already satisfied: urllib3<1.27,>=1.21.1 in /Users/andrewsius.ibm.com/opt/anaconda3/envs/spacy/lib/python3.8/site-packages (from requests<3.0.0,>=2.13.0->spacy<3.2.0,>=3.1.0->en-core-web-sm==3.1.0) (1.26.7)\n",
      "Requirement already satisfied: charset-normalizer~=2.0.0 in /Users/andrewsius.ibm.com/opt/anaconda3/envs/spacy/lib/python3.8/site-packages (from requests<3.0.0,>=2.13.0->spacy<3.2.0,>=3.1.0->en-core-web-sm==3.1.0) (2.0.7)\n",
      "Requirement already satisfied: idna<4,>=2.5 in /Users/andrewsius.ibm.com/opt/anaconda3/envs/spacy/lib/python3.8/site-packages (from requests<3.0.0,>=2.13.0->spacy<3.2.0,>=3.1.0->en-core-web-sm==3.1.0) (3.2)\n",
      "Requirement already satisfied: certifi>=2017.4.17 in /Users/andrewsius.ibm.com/opt/anaconda3/envs/spacy/lib/python3.8/site-packages (from requests<3.0.0,>=2.13.0->spacy<3.2.0,>=3.1.0->en-core-web-sm==3.1.0) (2021.10.8)\n",
      "Requirement already satisfied: click<7.2.0,>=7.1.1 in /Users/andrewsius.ibm.com/opt/anaconda3/envs/spacy/lib/python3.8/site-packages (from typer<0.5.0,>=0.3.0->spacy<3.2.0,>=3.1.0->en-core-web-sm==3.1.0) (7.1.2)\n",
      "Requirement already satisfied: MarkupSafe>=2.0 in /Users/andrewsius.ibm.com/opt/anaconda3/envs/spacy/lib/python3.8/site-packages (from jinja2->spacy<3.2.0,>=3.1.0->en-core-web-sm==3.1.0) (2.0.1)\n",
      "Installing collected packages: thinc\n",
      "  Attempting uninstall: thinc\n",
      "    Found existing installation: thinc 8.0.10\n",
      "    Uninstalling thinc-8.0.10:\n",
      "      Successfully uninstalled thinc-8.0.10\n",
      "Successfully installed thinc-8.0.13\n",
      "\u001b[33mWARNING: You are using pip version 21.3; however, version 21.3.1 is available.\n",
      "You should consider upgrading via the '/Users/andrewsius.ibm.com/opt/anaconda3/envs/spacy/bin/python3 -m pip install --upgrade pip' command.\u001b[0m\n",
      "\u001b[38;5;2m✔ Download and installation successful\u001b[0m\n",
      "You can now load the package via spacy.load('en_core_web_sm')\n"
     ]
    }
   ],
   "source": [
    "!python3 -m spacy download en_core_web_sm"
   ]
  },
  {
   "cell_type": "markdown",
   "id": "6276fcfb-145d-4fb7-8278-3a171194103c",
   "metadata": {},
   "source": [
    "### Next, let's import spaCy and check the version of some key dependencies."
   ]
  },
  {
   "cell_type": "code",
   "execution_count": 3,
   "id": "3485c457-7b7f-4ab9-8a14-04479b070963",
   "metadata": {},
   "outputs": [
    {
     "name": "stdout",
     "output_type": "stream",
     "text": [
      "3.1.4\n",
      "8.0.13\n"
     ]
    }
   ],
   "source": [
    "import spacy\n",
    "import thinc\n",
    "print(spacy.__version__)\n",
    "print(thinc.__version__)"
   ]
  },
  {
   "cell_type": "markdown",
   "id": "1280d03b-45c8-45f9-ba5c-f87eafbad880",
   "metadata": {},
   "source": [
    "### Now, import a set of examples and try one out.\n",
    "\n",
    "The logic below will load the spaCy model into the nlp object. It then executes the model using an example\n",
    "sentence. Some basic information on the text analyzed is displayed:"
   ]
  },
  {
   "cell_type": "code",
   "execution_count": 9,
   "id": "bee0729a-2e07-4a9b-a229-c81f48c81542",
   "metadata": {
    "scrolled": true,
    "tags": []
   },
   "outputs": [
    {
     "name": "stdout",
     "output_type": "stream",
     "text": [
      "Apple is looking at buying U.K. startup for $1 billion\n",
      "Noun phrases: ['Apple', 'U.K. startup']\n",
      "Verbs: ['look', 'buy']\n",
      "\n",
      "List entities;\n",
      "Apple ORG\n",
      "U.K. GPE\n",
      "$1 billion MONEY\n"
     ]
    }
   ],
   "source": [
    "from spacy.lang.en.examples import sentences \n",
    "\n",
    "nlp = spacy.load(\"en_core_web_sm\")\n",
    "\n",
    "doc = nlp(sentences[0])\n",
    "print(doc.text)\n",
    "\n",
    "# Analyze syntax\n",
    "print(\"Noun phrases:\", [chunk.text for chunk in doc.noun_chunks])\n",
    "print(\"Verbs:\", [token.lemma_ for token in doc if token.pos_ == \"VERB\"])\n",
    "print()\n",
    "# Find named entities, phrases and concepts\n",
    "print(\"List entities;\")\n",
    "for entity in doc.ents:\n",
    "    print(entity.text, entity.label_)"
   ]
  },
  {
   "cell_type": "markdown",
   "id": "18e0a04c-fa01-47fb-83d0-96199fb0e7a7",
   "metadata": {},
   "source": [
    "### Finally, you can also try your own sentence of course.\n",
    "\n",
    "We've primed the text variable below with a paragraph from a blog writen to discuss \n",
    "the IBM Telum announcement in August of 2021. \n",
    "\n",
    "https://www.ibm.com/blogs/systems/ibm-telum-processor-the-next-gen-microprocessor-for-ibm-z-and-ibm-linuxone/\n",
    "\n",
    "Feel free to modify it and try your own example!"
   ]
  },
  {
   "cell_type": "code",
   "execution_count": 11,
   "id": "3b1cccc6-2d39-49e8-9e62-a88b41c06b38",
   "metadata": {},
   "outputs": [
    {
     "name": "stdout",
     "output_type": "stream",
     "text": [
      "Today IBM announced the IBM Telum Processor at HotChips; Telum will be the central processor chip for the next generation IBM Z and LinuxONE systems. Organizations who want help in preventing fraud in real-time, or other use cases, will welcome these new IBM Z innovations designed to deliver in-transaction inference in real time and at scale. The 7 nm microprocessor is engineered to meet the demands our clients face for gaining AI-based insights from their data without compromising response time for high volume transactional workloads. To help meet these needs, IBM Telum is designed with a new dedicated on-chip accelerator for AI inference, to enable real time AI embedded directly in transactional workloads, alongside improvements for performance, security, and availability. \n",
      "\n",
      "Noun phrases: ['IBM', 'the IBM Telum Processor', 'HotChips', 'Telum', 'the central processor chip', 'the next generation', 'IBM Z and LinuxONE systems', 'Organizations', 'who', 'help', 'fraud', 'real-time', 'other use cases', 'these new IBM Z innovations', 'transaction', 'real time', 'scale', 'The 7 nm microprocessor', 'the demands', 'our clients', 'AI-based insights', 'their data', 'high volume transactional workloads', 'these needs', 'IBM Telum', '-chip', 'AI inference', 'AI', 'transactional workloads', 'improvements', 'performance', 'security', 'availability']\n",
      "Verbs: ['announce', 'be', 'want', 'prevent', 'welcome', 'design', 'deliver', 'engineer', 'meet', 'face', 'gain', 'base', 'compromise', 'help', 'meet', 'design', 'enable', 'embed']\n",
      "\n",
      "List entities;\n",
      "Today DATE\n",
      "IBM ORG\n",
      "IBM ORG\n",
      "HotChips ORG\n",
      "Telum ORG\n",
      "IBM ORG\n",
      "IBM ORG\n",
      "7 CARDINAL\n",
      "AI ORG\n",
      "IBM Telum ORG\n",
      "AI ORG\n",
      "AI ORG\n"
     ]
    }
   ],
   "source": [
    "# Process whole documents\n",
    "text = (\"Today IBM announced the IBM Telum Processor at HotChips; Telum will be the \" \n",
    "        \"central processor chip for the next generation IBM Z and LinuxONE systems. \" \n",
    "        \"Organizations who want help in preventing fraud in real-time, or other use \"\n",
    "        \"cases, will welcome these new IBM Z innovations designed to deliver in-transaction \" \n",
    "        \"inference in real time and at scale. The 7 nm microprocessor is engineered to meet \" \n",
    "        \"the demands our clients face for gaining AI-based insights from their data without \"\n",
    "        \"compromising response time for high volume transactional workloads. To help \" \n",
    "        \"meet these needs, IBM Telum is designed with a new dedicated on-chip accelerator \"\n",
    "        \"for AI inference, to enable real time AI embedded directly in transactional \" \n",
    "        \"workloads, alongside improvements for performance, security, and availability. \")\n",
    "\n",
    "doc = nlp(text)\n",
    "\n",
    "# Analyze syntax\n",
    "print(\"Noun phrases:\", [chunk.text for chunk in doc.noun_chunks])\n",
    "print(\"Verbs:\", [token.lemma_ for token in doc if token.pos_ == \"VERB\"])\n",
    "print()\n",
    "# Find named entities, phrases and concepts\n",
    "print(\"List entities:\")\n",
    "for entity in doc.ents:\n",
    "    print(entity.text, entity.label_)"
   ]
  }
 ],
 "metadata": {
  "interpreter": {
   "hash": "7252dc85deb17034b7a17627ea505139d2632c23f56c9fc9699db3bda8da1432"
  },
  "kernelspec": {
   "display_name": "Python 3 (ipykernel)",
   "language": "python",
   "name": "python3"
  },
  "language_info": {
   "codemirror_mode": {
    "name": "ipython",
    "version": 3
   },
   "file_extension": ".py",
   "mimetype": "text/x-python",
   "name": "python",
   "nbconvert_exporter": "python",
   "pygments_lexer": "ipython3",
   "version": "3.8.11"
  }
 },
 "nbformat": 4,
 "nbformat_minor": 5
}
